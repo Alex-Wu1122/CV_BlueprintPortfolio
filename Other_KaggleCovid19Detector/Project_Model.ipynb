{
 "cells": [
  {
   "cell_type": "code",
   "execution_count": 1,
   "id": "0af3ad16",
   "metadata": {
    "_cell_guid": "b1076dfc-b9ad-4769-8c92-a6c4dae69d19",
    "_uuid": "8f2839f25d086af736a60e9eeb907d3b93b6e0e5",
    "execution": {
     "iopub.execute_input": "2022-12-31T16:52:41.224801Z",
     "iopub.status.busy": "2022-12-31T16:52:41.224327Z",
     "iopub.status.idle": "2022-12-31T16:52:52.849481Z",
     "shell.execute_reply": "2022-12-31T16:52:52.848086Z"
    },
    "papermill": {
     "duration": 11.638204,
     "end_time": "2022-12-31T16:52:52.851609",
     "exception": false,
     "start_time": "2022-12-31T16:52:41.213405",
     "status": "completed"
    },
    "tags": []
   },
   "outputs": [
    {
     "name": "stdout",
     "output_type": "stream",
     "text": [
      "Collecting torchtoolbox\r\n",
      "  Downloading torchtoolbox-0.1.8.2-py3-none-any.whl (84 kB)\r\n",
      "\u001b[2K     \u001b[90m━━━━━━━━━━━━━━━━━━━━━━━━━━━━━━━━━━━━━━━\u001b[0m \u001b[32m85.0/85.0 kB\u001b[0m \u001b[31m951.9 kB/s\u001b[0m eta \u001b[36m0:00:00\u001b[0m\r\n",
      "\u001b[?25hRequirement already satisfied: prettytable in /opt/conda/lib/python3.7/site-packages (from torchtoolbox) (3.3.0)\r\n",
      "Requirement already satisfied: pyarrow in /opt/conda/lib/python3.7/site-packages (from torchtoolbox) (5.0.0)\r\n",
      "Requirement already satisfied: tensorboard in /opt/conda/lib/python3.7/site-packages (from torchtoolbox) (2.10.1)\r\n",
      "Requirement already satisfied: transformers in /opt/conda/lib/python3.7/site-packages (from torchtoolbox) (4.20.1)\r\n",
      "Requirement already satisfied: scikit-learn in /opt/conda/lib/python3.7/site-packages (from torchtoolbox) (1.0.2)\r\n",
      "Requirement already satisfied: scipy in /opt/conda/lib/python3.7/site-packages (from torchtoolbox) (1.7.3)\r\n",
      "Requirement already satisfied: tqdm in /opt/conda/lib/python3.7/site-packages (from torchtoolbox) (4.64.0)\r\n",
      "Requirement already satisfied: six in /opt/conda/lib/python3.7/site-packages (from torchtoolbox) (1.15.0)\r\n",
      "Requirement already satisfied: lmdb in /opt/conda/lib/python3.7/site-packages (from torchtoolbox) (1.3.0)\r\n",
      "Requirement already satisfied: opencv-python in /opt/conda/lib/python3.7/site-packages (from torchtoolbox) (4.5.4.60)\r\n",
      "Requirement already satisfied: pyyaml in /opt/conda/lib/python3.7/site-packages (from torchtoolbox) (6.0)\r\n",
      "Requirement already satisfied: numpy in /opt/conda/lib/python3.7/site-packages (from torchtoolbox) (1.21.6)\r\n",
      "Requirement already satisfied: wcwidth in /opt/conda/lib/python3.7/site-packages (from prettytable->torchtoolbox) (0.2.5)\r\n",
      "Requirement already satisfied: importlib-metadata in /opt/conda/lib/python3.7/site-packages (from prettytable->torchtoolbox) (4.13.0)\r\n",
      "Requirement already satisfied: threadpoolctl>=2.0.0 in /opt/conda/lib/python3.7/site-packages (from scikit-learn->torchtoolbox) (3.1.0)\r\n",
      "Requirement already satisfied: joblib>=0.11 in /opt/conda/lib/python3.7/site-packages (from scikit-learn->torchtoolbox) (1.0.1)\r\n",
      "Requirement already satisfied: tensorboard-data-server<0.7.0,>=0.6.0 in /opt/conda/lib/python3.7/site-packages (from tensorboard->torchtoolbox) (0.6.1)\r\n",
      "Requirement already satisfied: markdown>=2.6.8 in /opt/conda/lib/python3.7/site-packages (from tensorboard->torchtoolbox) (3.3.7)\r\n",
      "Requirement already satisfied: protobuf<3.20,>=3.9.2 in /opt/conda/lib/python3.7/site-packages (from tensorboard->torchtoolbox) (3.19.4)\r\n",
      "Requirement already satisfied: setuptools>=41.0.0 in /opt/conda/lib/python3.7/site-packages (from tensorboard->torchtoolbox) (59.8.0)\r\n",
      "Requirement already satisfied: wheel>=0.26 in /opt/conda/lib/python3.7/site-packages (from tensorboard->torchtoolbox) (0.37.1)\r\n",
      "Requirement already satisfied: werkzeug>=1.0.1 in /opt/conda/lib/python3.7/site-packages (from tensorboard->torchtoolbox) (2.2.2)\r\n",
      "Requirement already satisfied: tensorboard-plugin-wit>=1.6.0 in /opt/conda/lib/python3.7/site-packages (from tensorboard->torchtoolbox) (1.8.1)\r\n",
      "Requirement already satisfied: requests<3,>=2.21.0 in /opt/conda/lib/python3.7/site-packages (from tensorboard->torchtoolbox) (2.28.1)\r\n",
      "Requirement already satisfied: grpcio>=1.24.3 in /opt/conda/lib/python3.7/site-packages (from tensorboard->torchtoolbox) (1.43.0)\r\n",
      "Requirement already satisfied: google-auth<3,>=1.6.3 in /opt/conda/lib/python3.7/site-packages (from tensorboard->torchtoolbox) (1.35.0)\r\n",
      "Requirement already satisfied: google-auth-oauthlib<0.5,>=0.4.1 in /opt/conda/lib/python3.7/site-packages (from tensorboard->torchtoolbox) (0.4.6)\r\n",
      "Requirement already satisfied: absl-py>=0.4 in /opt/conda/lib/python3.7/site-packages (from tensorboard->torchtoolbox) (0.15.0)\r\n",
      "Requirement already satisfied: packaging>=20.0 in /opt/conda/lib/python3.7/site-packages (from transformers->torchtoolbox) (21.3)\r\n",
      "Requirement already satisfied: regex!=2019.12.17 in /opt/conda/lib/python3.7/site-packages (from transformers->torchtoolbox) (2021.11.10)\r\n",
      "Requirement already satisfied: filelock in /opt/conda/lib/python3.7/site-packages (from transformers->torchtoolbox) (3.7.1)\r\n",
      "Requirement already satisfied: tokenizers!=0.11.3,<0.13,>=0.11.1 in /opt/conda/lib/python3.7/site-packages (from transformers->torchtoolbox) (0.12.1)\r\n",
      "Requirement already satisfied: huggingface-hub<1.0,>=0.1.0 in /opt/conda/lib/python3.7/site-packages (from transformers->torchtoolbox) (0.10.1)\r\n",
      "Requirement already satisfied: pyasn1-modules>=0.2.1 in /opt/conda/lib/python3.7/site-packages (from google-auth<3,>=1.6.3->tensorboard->torchtoolbox) (0.2.7)\r\n",
      "Requirement already satisfied: cachetools<5.0,>=2.0.0 in /opt/conda/lib/python3.7/site-packages (from google-auth<3,>=1.6.3->tensorboard->torchtoolbox) (4.2.4)\r\n",
      "Requirement already satisfied: rsa<5,>=3.1.4 in /opt/conda/lib/python3.7/site-packages (from google-auth<3,>=1.6.3->tensorboard->torchtoolbox) (4.8)\r\n",
      "Requirement already satisfied: requests-oauthlib>=0.7.0 in /opt/conda/lib/python3.7/site-packages (from google-auth-oauthlib<0.5,>=0.4.1->tensorboard->torchtoolbox) (1.3.1)\r\n",
      "Requirement already satisfied: typing-extensions>=3.7.4.3 in /opt/conda/lib/python3.7/site-packages (from huggingface-hub<1.0,>=0.1.0->transformers->torchtoolbox) (4.1.1)\r\n",
      "Requirement already satisfied: zipp>=0.5 in /opt/conda/lib/python3.7/site-packages (from importlib-metadata->prettytable->torchtoolbox) (3.8.0)\r\n",
      "Requirement already satisfied: pyparsing!=3.0.5,>=2.0.2 in /opt/conda/lib/python3.7/site-packages (from packaging>=20.0->transformers->torchtoolbox) (3.0.9)\r\n",
      "Requirement already satisfied: certifi>=2017.4.17 in /opt/conda/lib/python3.7/site-packages (from requests<3,>=2.21.0->tensorboard->torchtoolbox) (2022.9.24)\r\n",
      "Requirement already satisfied: idna<4,>=2.5 in /opt/conda/lib/python3.7/site-packages (from requests<3,>=2.21.0->tensorboard->torchtoolbox) (3.3)\r\n",
      "Requirement already satisfied: urllib3<1.27,>=1.21.1 in /opt/conda/lib/python3.7/site-packages (from requests<3,>=2.21.0->tensorboard->torchtoolbox) (1.26.12)\r\n",
      "Requirement already satisfied: charset-normalizer<3,>=2 in /opt/conda/lib/python3.7/site-packages (from requests<3,>=2.21.0->tensorboard->torchtoolbox) (2.1.0)\r\n",
      "Requirement already satisfied: MarkupSafe>=2.1.1 in /opt/conda/lib/python3.7/site-packages (from werkzeug>=1.0.1->tensorboard->torchtoolbox) (2.1.1)\r\n",
      "Requirement already satisfied: pyasn1<0.5.0,>=0.4.6 in /opt/conda/lib/python3.7/site-packages (from pyasn1-modules>=0.2.1->google-auth<3,>=1.6.3->tensorboard->torchtoolbox) (0.4.8)\r\n",
      "Requirement already satisfied: oauthlib>=3.0.0 in /opt/conda/lib/python3.7/site-packages (from requests-oauthlib>=0.7.0->google-auth-oauthlib<0.5,>=0.4.1->tensorboard->torchtoolbox) (3.2.0)\r\n",
      "Installing collected packages: torchtoolbox\r\n",
      "Successfully installed torchtoolbox-0.1.8.2\r\n",
      "\u001b[33mWARNING: Running pip as the 'root' user can result in broken permissions and conflicting behaviour with the system package manager. It is recommended to use a virtual environment instead: https://pip.pypa.io/warnings/venv\u001b[0m\u001b[33m\r\n",
      "\u001b[0mNote: you may need to restart the kernel to use updated packages.\n"
     ]
    }
   ],
   "source": [
    "pip install torchtoolbox"
   ]
  },
  {
   "cell_type": "code",
   "execution_count": 2,
   "id": "6c4d6bbf",
   "metadata": {
    "execution": {
     "iopub.execute_input": "2022-12-31T16:52:52.866773Z",
     "iopub.status.busy": "2022-12-31T16:52:52.866415Z",
     "iopub.status.idle": "2022-12-31T16:53:03.077399Z",
     "shell.execute_reply": "2022-12-31T16:53:03.076295Z"
    },
    "papermill": {
     "duration": 10.221483,
     "end_time": "2022-12-31T16:53:03.080283",
     "exception": false,
     "start_time": "2022-12-31T16:52:52.858800",
     "status": "completed"
    },
    "tags": []
   },
   "outputs": [
    {
     "name": "stdout",
     "output_type": "stream",
     "text": [
      "Collecting timm\r\n",
      "  Downloading timm-0.6.12-py3-none-any.whl (549 kB)\r\n",
      "\u001b[2K     \u001b[90m━━━━━━━━━━━━━━━━━━━━━━━━━━━━━━━━━━━━━━━\u001b[0m \u001b[32m549.1/549.1 kB\u001b[0m \u001b[31m2.5 MB/s\u001b[0m eta \u001b[36m0:00:00\u001b[0m\r\n",
      "\u001b[?25hRequirement already satisfied: pyyaml in /opt/conda/lib/python3.7/site-packages (from timm) (6.0)\r\n",
      "Requirement already satisfied: torch>=1.7 in /opt/conda/lib/python3.7/site-packages (from timm) (1.11.0)\r\n",
      "Requirement already satisfied: huggingface-hub in /opt/conda/lib/python3.7/site-packages (from timm) (0.10.1)\r\n",
      "Requirement already satisfied: torchvision in /opt/conda/lib/python3.7/site-packages (from timm) (0.12.0)\r\n",
      "Requirement already satisfied: typing-extensions in /opt/conda/lib/python3.7/site-packages (from torch>=1.7->timm) (4.1.1)\r\n",
      "Requirement already satisfied: tqdm in /opt/conda/lib/python3.7/site-packages (from huggingface-hub->timm) (4.64.0)\r\n",
      "Requirement already satisfied: importlib-metadata in /opt/conda/lib/python3.7/site-packages (from huggingface-hub->timm) (4.13.0)\r\n",
      "Requirement already satisfied: requests in /opt/conda/lib/python3.7/site-packages (from huggingface-hub->timm) (2.28.1)\r\n",
      "Requirement already satisfied: filelock in /opt/conda/lib/python3.7/site-packages (from huggingface-hub->timm) (3.7.1)\r\n",
      "Requirement already satisfied: packaging>=20.9 in /opt/conda/lib/python3.7/site-packages (from huggingface-hub->timm) (21.3)\r\n",
      "Requirement already satisfied: pillow!=8.3.*,>=5.3.0 in /opt/conda/lib/python3.7/site-packages (from torchvision->timm) (9.1.1)\r\n",
      "Requirement already satisfied: numpy in /opt/conda/lib/python3.7/site-packages (from torchvision->timm) (1.21.6)\r\n",
      "Requirement already satisfied: pyparsing!=3.0.5,>=2.0.2 in /opt/conda/lib/python3.7/site-packages (from packaging>=20.9->huggingface-hub->timm) (3.0.9)\r\n",
      "Requirement already satisfied: zipp>=0.5 in /opt/conda/lib/python3.7/site-packages (from importlib-metadata->huggingface-hub->timm) (3.8.0)\r\n",
      "Requirement already satisfied: idna<4,>=2.5 in /opt/conda/lib/python3.7/site-packages (from requests->huggingface-hub->timm) (3.3)\r\n",
      "Requirement already satisfied: certifi>=2017.4.17 in /opt/conda/lib/python3.7/site-packages (from requests->huggingface-hub->timm) (2022.9.24)\r\n",
      "Requirement already satisfied: charset-normalizer<3,>=2 in /opt/conda/lib/python3.7/site-packages (from requests->huggingface-hub->timm) (2.1.0)\r\n",
      "Requirement already satisfied: urllib3<1.27,>=1.21.1 in /opt/conda/lib/python3.7/site-packages (from requests->huggingface-hub->timm) (1.26.12)\r\n",
      "Installing collected packages: timm\r\n",
      "Successfully installed timm-0.6.12\r\n",
      "\u001b[33mWARNING: Running pip as the 'root' user can result in broken permissions and conflicting behaviour with the system package manager. It is recommended to use a virtual environment instead: https://pip.pypa.io/warnings/venv\u001b[0m\u001b[33m\r\n",
      "\u001b[0mNote: you may need to restart the kernel to use updated packages.\n"
     ]
    }
   ],
   "source": [
    "pip install timm"
   ]
  },
  {
   "cell_type": "code",
   "execution_count": 3,
   "id": "bd39faaf",
   "metadata": {
    "execution": {
     "iopub.execute_input": "2022-12-31T16:53:03.096972Z",
     "iopub.status.busy": "2022-12-31T16:53:03.096632Z",
     "iopub.status.idle": "2022-12-31T16:53:06.976989Z",
     "shell.execute_reply": "2022-12-31T16:53:06.975718Z"
    },
    "papermill": {
     "duration": 3.891004,
     "end_time": "2022-12-31T16:53:06.979385",
     "exception": false,
     "start_time": "2022-12-31T16:53:03.088381",
     "status": "completed"
    },
    "tags": []
   },
   "outputs": [],
   "source": [
    "import sys\n",
    "sys.path.append('../input/timm-pytorch-image-models/pytorch-image-models-master')\n",
    "import timm\n",
    "\n",
    "import os\n",
    "from tqdm import tqdm\n",
    "import itertools\n",
    "\n",
    "from sklearn.metrics import confusion_matrix\n",
    "import matplotlib.pyplot as plt\n",
    "%matplotlib inline\n",
    "import pandas as pd\n",
    "import numpy as np\n",
    "import seaborn as sns\n",
    "\n",
    "from torch.utils.data.dataloader import DataLoader\n",
    "from torchvision.utils import make_grid\n",
    "import torch\n",
    "import torchvision\n",
    "from torch.utils.data import random_split\n",
    "import torchvision.models as models\n",
    "import torch.nn as nn\n",
    "import torch.nn.functional as F\n",
    "import torchvision.transforms as T\n",
    "from torchvision.datasets import ImageFolder\n",
    "import torchvision.transforms as transforms\n",
    "from torch.utils.data import WeightedRandomSampler\n",
    "from torchtoolbox.transform import Cutout\n",
    "\n",
    "torch.backends.cudnn.benchmark = True"
   ]
  },
  {
   "cell_type": "code",
   "execution_count": 4,
   "id": "cc1d9d91",
   "metadata": {
    "execution": {
     "iopub.execute_input": "2022-12-31T16:53:06.996391Z",
     "iopub.status.busy": "2022-12-31T16:53:06.994800Z",
     "iopub.status.idle": "2022-12-31T16:53:07.009009Z",
     "shell.execute_reply": "2022-12-31T16:53:07.007952Z"
    },
    "papermill": {
     "duration": 0.024788,
     "end_time": "2022-12-31T16:53:07.011556",
     "exception": false,
     "start_time": "2022-12-31T16:53:06.986768",
     "status": "completed"
    },
    "tags": []
   },
   "outputs": [
    {
     "name": "stdout",
     "output_type": "stream",
     "text": [
      "['TA', 'IA', 'AA', 'NFP']\n"
     ]
    }
   ],
   "source": [
    "#data_ds = \"/kaggle/input/ai-cup-dataset/target/target\"\n",
    "data_ds = \"/kaggle/input/science/four_target\"\n",
    "#datatest_ds = \"../input/aicup-crops/test\"\n",
    "classes = os.listdir(data_ds)\n",
    "classes.remove(\".check_jpg.py.swp\")\n",
    "print(classes)"
   ]
  },
  {
   "cell_type": "code",
   "execution_count": 5,
   "id": "a074c375",
   "metadata": {
    "execution": {
     "iopub.execute_input": "2022-12-31T16:53:07.026543Z",
     "iopub.status.busy": "2022-12-31T16:53:07.026278Z",
     "iopub.status.idle": "2022-12-31T16:54:04.317094Z",
     "shell.execute_reply": "2022-12-31T16:54:04.315868Z"
    },
    "papermill": {
     "duration": 57.300805,
     "end_time": "2022-12-31T16:54:04.319342",
     "exception": false,
     "start_time": "2022-12-31T16:53:07.018537",
     "status": "completed"
    },
    "tags": []
   },
   "outputs": [
    {
     "name": "stdout",
     "output_type": "stream",
     "text": [
      "Copying TA\n",
      "Copying IA\n",
      "Copying AA\n",
      "Copying NFP\n"
     ]
    }
   ],
   "source": [
    "import shutil\n",
    "\n",
    "# shutil.rmtree('/kaggle/temp/')\n",
    "    \n",
    "num = 0\n",
    "valid_num = [2000, 450, 250, 1200]\n",
    "#valid_num = 200\n",
    "\n",
    "for aclass in classes:\n",
    "    print('Copying', aclass)\n",
    "    src_ds = os.path.join(data_ds, aclass)\n",
    "    #src_ds=os.path.join(src_ds, aclass)\n",
    "    train_cd = os.path.join('/kaggle/s12/train', aclass)\n",
    "    valid_cd = os.path.join('/kaggle/s12/valid', aclass)\n",
    "    os.makedirs(train_cd)\n",
    "    os.makedirs(valid_cd)\n",
    "    \n",
    "    files = os.listdir(src_ds)\n",
    "    for f in files[valid_num[num]:]:\n",
    "        src = os.path.join(src_ds, f)\n",
    "        dst = os.path.join(train_cd, f)\n",
    "        shutil.copy(src, dst)\n",
    "    num += 1\n",
    "    #for f in files[:valid_num]:\n",
    "    for f in files[:]:\n",
    "        src = os.path.join(src_ds, f)\n",
    "        dst = os.path.join(valid_cd, f)\n",
    "        shutil.copy(src, dst)"
   ]
  },
  {
   "cell_type": "code",
   "execution_count": 6,
   "id": "e695c946",
   "metadata": {
    "execution": {
     "iopub.execute_input": "2022-12-31T16:54:04.337583Z",
     "iopub.status.busy": "2022-12-31T16:54:04.336642Z",
     "iopub.status.idle": "2022-12-31T16:54:04.367059Z",
     "shell.execute_reply": "2022-12-31T16:54:04.366229Z"
    },
    "papermill": {
     "duration": 0.040754,
     "end_time": "2022-12-31T16:54:04.369126",
     "exception": false,
     "start_time": "2022-12-31T16:54:04.328372",
     "status": "completed"
    },
    "tags": []
   },
   "outputs": [],
   "source": [
    "transforms = T.Compose([\n",
    "    T.Resize((1024, 1024)),\n",
    "    T.RandomHorizontalFlip(p=0.5),\n",
    "    #T.RandomVerticalFlip(0.5),\n",
    "    #T.RandomRotation(10),\n",
    "    #T.RandomEqualize(p=1),\n",
    "    #Cutout(),\n",
    "    T.ToTensor(),\n",
    "    T.Normalize((0.485, 0.456, 0.406), (0.229, 0.224, 0.225)),\n",
    "    #T.GaussianBlur(7,3)\n",
    "\n",
    "])\n",
    "train_ds = ImageFolder('/kaggle/s12/train', transform = transforms)\n",
    "val_ds = ImageFolder('/kaggle/s12/valid', transform = transforms)"
   ]
  },
  {
   "cell_type": "code",
   "execution_count": 7,
   "id": "6929dac3",
   "metadata": {
    "execution": {
     "iopub.execute_input": "2022-12-31T16:54:04.385792Z",
     "iopub.status.busy": "2022-12-31T16:54:04.385498Z",
     "iopub.status.idle": "2022-12-31T16:54:04.395711Z",
     "shell.execute_reply": "2022-12-31T16:54:04.394714Z"
    },
    "papermill": {
     "duration": 0.021731,
     "end_time": "2022-12-31T16:54:04.398053",
     "exception": false,
     "start_time": "2022-12-31T16:54:04.376322",
     "status": "completed"
    },
    "tags": []
   },
   "outputs": [
    {
     "data": {
      "text/plain": [
       "<torch._C.Generator at 0x7f9ce0071230>"
      ]
     },
     "execution_count": 7,
     "metadata": {},
     "output_type": "execute_result"
    }
   ],
   "source": [
    "random_seed = 42\n",
    "torch.manual_seed(random_seed)"
   ]
  },
  {
   "cell_type": "code",
   "execution_count": 8,
   "id": "14166e05",
   "metadata": {
    "execution": {
     "iopub.execute_input": "2022-12-31T16:54:04.413682Z",
     "iopub.status.busy": "2022-12-31T16:54:04.413408Z",
     "iopub.status.idle": "2022-12-31T16:54:04.419086Z",
     "shell.execute_reply": "2022-12-31T16:54:04.418201Z"
    },
    "papermill": {
     "duration": 0.015649,
     "end_time": "2022-12-31T16:54:04.420980",
     "exception": false,
     "start_time": "2022-12-31T16:54:04.405331",
     "status": "completed"
    },
    "tags": []
   },
   "outputs": [
    {
     "data": {
      "text/plain": [
       "(1395, 5295)"
      ]
     },
     "execution_count": 8,
     "metadata": {},
     "output_type": "execute_result"
    }
   ],
   "source": [
    "len(train_ds), len(val_ds)"
   ]
  },
  {
   "cell_type": "code",
   "execution_count": 9,
   "id": "a3c2c221",
   "metadata": {
    "execution": {
     "iopub.execute_input": "2022-12-31T16:54:04.437226Z",
     "iopub.status.busy": "2022-12-31T16:54:04.436589Z",
     "iopub.status.idle": "2022-12-31T16:54:04.441763Z",
     "shell.execute_reply": "2022-12-31T16:54:04.440939Z"
    },
    "papermill": {
     "duration": 0.015327,
     "end_time": "2022-12-31T16:54:04.443628",
     "exception": false,
     "start_time": "2022-12-31T16:54:04.428301",
     "status": "completed"
    },
    "tags": []
   },
   "outputs": [],
   "source": [
    "batch_size = 16"
   ]
  },
  {
   "cell_type": "code",
   "execution_count": 10,
   "id": "2791dcbd",
   "metadata": {
    "execution": {
     "iopub.execute_input": "2022-12-31T16:54:04.459985Z",
     "iopub.status.busy": "2022-12-31T16:54:04.459142Z",
     "iopub.status.idle": "2022-12-31T16:54:04.468178Z",
     "shell.execute_reply": "2022-12-31T16:54:04.467092Z"
    },
    "papermill": {
     "duration": 0.019676,
     "end_time": "2022-12-31T16:54:04.470710",
     "exception": false,
     "start_time": "2022-12-31T16:54:04.451034",
     "status": "completed"
    },
    "tags": []
   },
   "outputs": [
    {
     "name": "stdout",
     "output_type": "stream",
     "text": [
      "[177 446 337 435]\n"
     ]
    }
   ],
   "source": [
    "train_y = [label for img, label in train_ds.samples ]\n",
    "\n",
    "class_sample_count = np.array([len(np.where(train_y == t)[0]) for t in np.unique(train_y)])\n",
    "print(class_sample_count)\n",
    "# sample_weight=[]\n",
    "# for i in class_sample_count:\n",
    "#     sample_weight.append(1/i)\n",
    "# print(sample_weight)"
   ]
  },
  {
   "cell_type": "code",
   "execution_count": 11,
   "id": "5baf7eb3",
   "metadata": {
    "execution": {
     "iopub.execute_input": "2022-12-31T16:54:04.486866Z",
     "iopub.status.busy": "2022-12-31T16:54:04.486589Z",
     "iopub.status.idle": "2022-12-31T16:54:04.492395Z",
     "shell.execute_reply": "2022-12-31T16:54:04.491568Z"
    },
    "papermill": {
     "duration": 0.015909,
     "end_time": "2022-12-31T16:54:04.494289",
     "exception": false,
     "start_time": "2022-12-31T16:54:04.478380",
     "status": "completed"
    },
    "tags": []
   },
   "outputs": [],
   "source": [
    "# train_dl = DataLoader(train_ds, batch_size, num_workers = 2, sampler=sampler, pin_memory=True)\n",
    "train_dl = DataLoader(train_ds, batch_size, num_workers = 2, shuffle=True, pin_memory=True)\n",
    "val_dl = DataLoader(val_ds, batch_size*2, num_workers = 2, pin_memory=True)"
   ]
  },
  {
   "cell_type": "code",
   "execution_count": 12,
   "id": "793a485f",
   "metadata": {
    "execution": {
     "iopub.execute_input": "2022-12-31T16:54:04.510808Z",
     "iopub.status.busy": "2022-12-31T16:54:04.509947Z",
     "iopub.status.idle": "2022-12-31T16:54:04.515492Z",
     "shell.execute_reply": "2022-12-31T16:54:04.514607Z"
    },
    "papermill": {
     "duration": 0.015882,
     "end_time": "2022-12-31T16:54:04.517557",
     "exception": false,
     "start_time": "2022-12-31T16:54:04.501675",
     "status": "completed"
    },
    "tags": []
   },
   "outputs": [],
   "source": [
    "def show_batch(dl):\n",
    "    for images, labels in dl:\n",
    "        fig, ax = plt.subplots(figsize=(12, 6))\n",
    "        ax.set_xticks([])\n",
    "        ax.set_yticks([])\n",
    "        ax.imshow(make_grid(images, nrow = 16).permute(1, 2, 0))\n",
    "        break"
   ]
  },
  {
   "cell_type": "code",
   "execution_count": 13,
   "id": "9dafb13a",
   "metadata": {
    "execution": {
     "iopub.execute_input": "2022-12-31T16:54:04.533417Z",
     "iopub.status.busy": "2022-12-31T16:54:04.533167Z",
     "iopub.status.idle": "2022-12-31T16:54:21.902650Z",
     "shell.execute_reply": "2022-12-31T16:54:21.901615Z"
    },
    "papermill": {
     "duration": 17.379903,
     "end_time": "2022-12-31T16:54:21.904896",
     "exception": false,
     "start_time": "2022-12-31T16:54:04.524993",
     "status": "completed"
    },
    "tags": []
   },
   "outputs": [
    {
     "data": {
      "image/png": "[encoded data removed]",
      "text/plain": [
       "<Figure size 864x432 with 1 Axes>"
      ]
     },
     "metadata": {},
     "output_type": "display_data"
    }
   ],
   "source": [
    "show_batch(train_dl)"
   ]
  },
  {
   "cell_type": "code",
   "execution_count": 14,
   "id": "9678344f",
   "metadata": {
    "execution": {
     "iopub.execute_input": "2022-12-31T16:54:21.923380Z",
     "iopub.status.busy": "2022-12-31T16:54:21.923069Z",
     "iopub.status.idle": "2022-12-31T16:54:21.931998Z",
     "shell.execute_reply": "2022-12-31T16:54:21.931153Z"
    },
    "papermill": {
     "duration": 0.020327,
     "end_time": "2022-12-31T16:54:21.933928",
     "exception": false,
     "start_time": "2022-12-31T16:54:21.913601",
     "status": "completed"
    },
    "tags": []
   },
   "outputs": [],
   "source": [
    "def get_default_device():\n",
    "    \"\"\"Pick GPU if available, else CPU\"\"\"\n",
    "    if torch.cuda.is_available():\n",
    "        return torch.device('cuda')\n",
    "    else:\n",
    "        return torch.device('cpu')\n",
    "    \n",
    "def to_device(data, device):\n",
    "    \"\"\"Move tensor(s) to chosen device\"\"\"\n",
    "    if isinstance(data, (list,tuple)):\n",
    "        return [to_device(x, device) for x in data]\n",
    "    return data.to(device, non_blocking=True)\n",
    "\n",
    "class DeviceDataLoader():\n",
    "    \"\"\"Wrap a dataloader to move data to a device\"\"\"\n",
    "    def __init__(self, dl, device):\n",
    "        self.dl = dl\n",
    "        self.device = device\n",
    "    def __iter__(self):\n",
    "        \"\"\"Yield a batch of data after moving it to device\"\"\"\n",
    "        for b in self.dl: \n",
    "            yield to_device(b, self.device)\n",
    "\n",
    "    def __len__(self):\n",
    "        \"\"\"Number of batches\"\"\"\n",
    "        return len(self.dl)\n",
    "#改batch"
   ]
  },
  {
   "cell_type": "code",
   "execution_count": 15,
   "id": "6b7022dc",
   "metadata": {
    "execution": {
     "iopub.execute_input": "2022-12-31T16:54:21.951653Z",
     "iopub.status.busy": "2022-12-31T16:54:21.951374Z",
     "iopub.status.idle": "2022-12-31T16:54:21.957270Z",
     "shell.execute_reply": "2022-12-31T16:54:21.956249Z"
    },
    "papermill": {
     "duration": 0.018047,
     "end_time": "2022-12-31T16:54:21.960219",
     "exception": false,
     "start_time": "2022-12-31T16:54:21.942172",
     "status": "completed"
    },
    "tags": []
   },
   "outputs": [
    {
     "data": {
      "text/plain": [
       "device(type='cuda')"
      ]
     },
     "execution_count": 15,
     "metadata": {},
     "output_type": "execute_result"
    }
   ],
   "source": [
    "device = get_default_device()\n",
    "device"
   ]
  },
  {
   "cell_type": "code",
   "execution_count": 16,
   "id": "47814aa5",
   "metadata": {
    "execution": {
     "iopub.execute_input": "2022-12-31T16:54:21.978052Z",
     "iopub.status.busy": "2022-12-31T16:54:21.977782Z",
     "iopub.status.idle": "2022-12-31T16:54:21.989981Z",
     "shell.execute_reply": "2022-12-31T16:54:21.989069Z"
    },
    "papermill": {
     "duration": 0.023811,
     "end_time": "2022-12-31T16:54:21.992236",
     "exception": false,
     "start_time": "2022-12-31T16:54:21.968425",
     "status": "completed"
    },
    "tags": []
   },
   "outputs": [],
   "source": [
    "def accuracy(outputs, labels):\n",
    "    _, preds = torch.max(outputs, dim=1)\n",
    "    return torch.tensor(torch.sum(preds == labels).item() / len(preds))\n",
    "\n",
    "class ImageClassificationBase(nn.Module):\n",
    "    def training_step(self, batch):\n",
    "        images, labels = batch \n",
    "        out = self(images)                  # Generate predictions\n",
    "        loss = F.cross_entropy(out, labels) # Calculate loss\n",
    "        return loss\n",
    "\n",
    "    def predict_step(self, batch, y_pred, y_true):\n",
    "        images, labels = batch \n",
    "        out = self(images)  # Generate predictions\n",
    "        _, preds = torch.max(out, 1)\n",
    "        loss = F.cross_entropy(out, labels)   # Calculate loss\n",
    "        y_pred.extend(preds.view(-1).detach().cpu().numpy())       # 將preds預測結果detach出來，並轉成numpy格式       \n",
    "        y_true.extend(labels.view(-1).detach().cpu().numpy())      # target是ground-truth的label\n",
    "        #acc = accuracy(out, labels)           # Calculate accuracy\n",
    "        return y_pred, y_true\n",
    "        #return {'val_loss': loss.detach(), 'val_acc': acc}\n",
    "    \n",
    "    def validation_step(self, batch):\n",
    "        images, labels = batch \n",
    "        out = self(images)                    # Generate predictions\n",
    "        loss = F.cross_entropy(out, labels)   # Calculate loss\n",
    "        acc = accuracy(out, labels)           # Calculate accuracy\n",
    "        return {'val_loss': loss.detach(), 'val_acc': acc}\n",
    "    \n",
    "    def validation_epoch_end(self, outputs):\n",
    "        batch_losses = [x['val_loss'] for x in outputs]\n",
    "        epoch_loss = torch.stack(batch_losses).mean()   # Combine losses\n",
    "        batch_accs = [x['val_acc'] for x in outputs]\n",
    "        epoch_acc = torch.stack(batch_accs).mean()      # Combine accuracies\n",
    "        return {'val_loss': epoch_loss.item(), 'val_acc': epoch_acc.item()}\n",
    "    \n",
    "    def epoch_end(self, epoch, result):\n",
    "        torch.save(self.network.state_dict(), '/kaggle/working/model-' + str(epoch) + '.pth')\n",
    "        print(\"Epoch {}: train_loss: {:.4f}, val_loss: {:.4f}, val_acc: {:.4f}\".format(\n",
    "            epoch+1, result['train_loss'], result['val_loss'], result['val_acc']))"
   ]
  },
  {
   "cell_type": "code",
   "execution_count": 17,
   "id": "4d94778f",
   "metadata": {
    "execution": {
     "iopub.execute_input": "2022-12-31T16:54:22.010328Z",
     "iopub.status.busy": "2022-12-31T16:54:22.009866Z",
     "iopub.status.idle": "2022-12-31T16:54:22.021461Z",
     "shell.execute_reply": "2022-12-31T16:54:22.020621Z"
    },
    "papermill": {
     "duration": 0.022802,
     "end_time": "2022-12-31T16:54:22.023378",
     "exception": false,
     "start_time": "2022-12-31T16:54:22.000576",
     "status": "completed"
    },
    "tags": []
   },
   "outputs": [],
   "source": [
    "@torch.no_grad()\n",
    "def predict(model, val_loader, y_pred, y_true):\n",
    "    model.eval()\n",
    "    for batch in val_loader:\n",
    "        y_pred, y_true=model.predict_step(batch, y_pred, y_true)\n",
    "    #outputs = [model.validation_step(batch) for batch in tqdm(val_loader)]\n",
    "    return y_pred, y_true\n",
    "\n",
    "@torch.no_grad()\n",
    "def evaluate(model, val_loader):\n",
    "    model.eval()\n",
    "    outputs = [model.validation_step(batch) for batch in val_loader]\n",
    "    return model.validation_epoch_end(outputs)\n",
    "\n",
    "def fit(epochs, lr, model, train_loader, val_loader, y_pred, y_true, opt_func=torch.optim.AdamW):\n",
    "    history = []\n",
    "    optimizer = opt_func(model.parameters(), lr)\n",
    "#     scheduler = torch.optim.lr_scheduler.ReduceLROnPlateau(optimizer, mode='max', factor=0.5, patience=2, min_lr=1e-5)\n",
    "    for epoch in tqdm(range(epochs)):\n",
    "        # Training Phase \n",
    "        model.train()\n",
    "        train_losses = []\n",
    "        for batch in train_loader:\n",
    "            optimizer.zero_grad()\n",
    "            loss = model.training_step(batch)\n",
    "            train_losses.append(loss)\n",
    "            loss.backward()\n",
    "            #print('optim: {}'.format(optimizer.param_groups[0]['lr']))\n",
    "            optimizer.step()\n",
    "#         print('scheduler: {}'.format(scheduler.get_lr()[0]))\n",
    "#         scheduler.step()\n",
    "        # Validation phase\n",
    "        result = evaluate(model, val_loader)\n",
    "        result['train_loss'] = torch.stack(train_losses).mean().item()\n",
    "        model.epoch_end(epoch, result)\n",
    "        history.append(result)\n",
    "        predict(model, val_dl, y_pred, y_true )\n",
    "        target_names=['AA', 'IA', 'NFP', 'TA']\n",
    "        #target_names=['sesbania', 'broccoli', 'soybeans', 'sunhemp', 'passionfruit', 'lettuce', 'papaya', 'bambooshoots', 'kale', 'pear', 'litchi', 'asparagus', 'cauliflower', 'chinesecabbage', 'tea', 'longan', 'custardapple', 'roseapple', 'loofah', 'greenonion', 'taro', 'chinesechives', 'waterbamboo', 'lemon', 'sweetpotato', 'betel', 'pennisetum', 'redbeans', 'greenhouse', 'grape', 'mango', 'onion', 'others']\n",
    "        #target_names = ['tomato', 'pineapple', 'pumpkin', 'carrot', 'guava', 'peanut', 'bareland', 'dragonfruit', 'sugarcane', 'soybean', 'corn', 'banana', 'garlic', 'rice']\n",
    "        cnf_matrix = confusion_matrix(y_true, y_pred)\n",
    "        per_cls_acc = cnf_matrix.diagonal()/cnf_matrix.sum(axis=0)                    # https://stackoverflow.com/a/53824126/13369757\n",
    "        print(target_names)\n",
    "        print(per_cls_acc)                                                          #顯示每個class的Accuracy\n",
    "        print(\"Plot confusion matrix\")\n",
    "\n",
    "        # 開始繪製混淆矩陣\n",
    "        df_cm = pd.DataFrame(cnf_matrix, target_names, target_names)     # https://sofiadutta.github.io/datascience-ipynbs/pytorch/Image-Classification-using-PyTorch.html\n",
    "        plt.figure(figsize = (4,4))\n",
    "        sns.heatmap(df_cm, annot=True, fmt=\"d\", cmap='Blues')\n",
    "        plt.xlabel(\"prediction\")\n",
    "        plt.ylabel(\"label (ground truth)\")\n",
    "        y_pred=[]\n",
    "        y_true=[]\n",
    "    return history"
   ]
  },
  {
   "cell_type": "code",
   "execution_count": 18,
   "id": "78c221f8",
   "metadata": {
    "execution": {
     "iopub.execute_input": "2022-12-31T16:54:22.041352Z",
     "iopub.status.busy": "2022-12-31T16:54:22.041092Z",
     "iopub.status.idle": "2022-12-31T16:54:24.869719Z",
     "shell.execute_reply": "2022-12-31T16:54:24.868568Z"
    },
    "papermill": {
     "duration": 2.840558,
     "end_time": "2022-12-31T16:54:24.872187",
     "exception": false,
     "start_time": "2022-12-31T16:54:22.031629",
     "status": "completed"
    },
    "tags": []
   },
   "outputs": [
    {
     "name": "stderr",
     "output_type": "stream",
     "text": [
      "Downloading: \"https://github.com/rwightman/pytorch-image-models/releases/download/v0.1-weights/efficientnet_b0_ra-3dd342df.pth\" to /root/.cache/torch/hub/checkpoints/efficientnet_b0_ra-3dd342df.pth\n"
     ]
    }
   ],
   "source": [
    "from torch.cuda.amp import autocast\n",
    "class ConvNeXt(ImageClassificationBase):\n",
    "    def __init__(self):\n",
    "        super().__init__()\n",
    "        # Use a pretrained model\n",
    "        #self.network = timm.create_model('convnext_small', pretrained=True)\n",
    "        self.network = timm.create_model('efficientnet_b0', pretrained=True)\n",
    "        # Replace last layer\n",
    "        num_ftrs = self.network.num_features\n",
    "        self.network.classifier = nn.Linear(num_ftrs, 4)\n",
    "    \n",
    "    @autocast()\n",
    "    def forward(self, xb):\n",
    "        return self.network(xb)\n",
    "\n",
    "model = ConvNeXt()"
   ]
  },
  {
   "cell_type": "code",
   "execution_count": 19,
   "id": "95a2d69f",
   "metadata": {
    "execution": {
     "iopub.execute_input": "2022-12-31T16:54:24.892857Z",
     "iopub.status.busy": "2022-12-31T16:54:24.891172Z",
     "iopub.status.idle": "2022-12-31T16:54:24.920674Z",
     "shell.execute_reply": "2022-12-31T16:54:24.919669Z"
    },
    "papermill": {
     "duration": 0.041295,
     "end_time": "2022-12-31T16:54:24.922738",
     "exception": false,
     "start_time": "2022-12-31T16:54:24.881443",
     "status": "completed"
    },
    "tags": []
   },
   "outputs": [
    {
     "data": {
      "text/plain": [
       "ConvNeXt(\n",
       "  (network): EfficientNet(\n",
       "    (conv_stem): Conv2d(3, 32, kernel_size=(3, 3), stride=(2, 2), padding=(1, 1), bias=False)\n",
       "    (bn1): BatchNormAct2d(\n",
       "      32, eps=1e-05, momentum=0.1, affine=True, track_running_stats=True\n",
       "      (drop): Identity()\n",
       "      (act): SiLU(inplace=True)\n",
       "    )\n",
       "    (blocks): Sequential(\n",
       "      (0): Sequential(\n",
       "        (0): DepthwiseSeparableConv(\n",
       "          (conv_dw): Conv2d(32, 32, kernel_size=(3, 3), stride=(1, 1), padding=(1, 1), groups=32, bias=False)\n",
       "          (bn1): BatchNormAct2d(\n",
       "            32, eps=1e-05, momentum=0.1, affine=True, track_running_stats=True\n",
       "            (drop): Identity()\n",
       "            (act): SiLU(inplace=True)\n",
       "          )\n",
       "          (se): SqueezeExcite(\n",
       "            (conv_reduce): Conv2d(32, 8, kernel_size=(1, 1), stride=(1, 1))\n",
       "            (act1): SiLU(inplace=True)\n",
       "            (conv_expand): Conv2d(8, 32, kernel_size=(1, 1), stride=(1, 1))\n",
       "            (gate): Sigmoid()\n",
       "          )\n",
       "          (conv_pw): Conv2d(32, 16, kernel_size=(1, 1), stride=(1, 1), bias=False)\n",
       "          (bn2): BatchNormAct2d(\n",
       "            16, eps=1e-05, momentum=0.1, affine=True, track_running_stats=True\n",
       "            (drop): Identity()\n",
       "            (act): Identity()\n",
       "          )\n",
       "          (drop_path): Identity()\n",
       "        )\n",
       "      )\n",
       "      (1): Sequential(\n",
       "        (0): InvertedResidual(\n",
       "          (conv_pw): Conv2d(16, 96, kernel_size=(1, 1), stride=(1, 1), bias=False)\n",
       "          (bn1): BatchNormAct2d(\n",
       "            96, eps=1e-05, momentum=0.1, affine=True, track_running_stats=True\n",
       "            (drop): Identity()\n",
       "            (act): SiLU(inplace=True)\n",
       "          )\n",
       "          (conv_dw): Conv2d(96, 96, kernel_size=(3, 3), stride=(2, 2), padding=(1, 1), groups=96, bias=False)\n",
       "          (bn2): BatchNormAct2d(\n",
       "            96, eps=1e-05, momentum=0.1, affine=True, track_running_stats=True\n",
       "            (drop): Identity()\n",
       "            (act): SiLU(inplace=True)\n",
       "          )\n",
       "          (se): SqueezeExcite(\n",
       "            (conv_reduce): Conv2d(96, 4, kernel_size=(1, 1), stride=(1, 1))\n",
       "            (act1): SiLU(inplace=True)\n",
       "            (conv_expand): Conv2d(4, 96, kernel_size=(1, 1), stride=(1, 1))\n",
       "            (gate): Sigmoid()\n",
       "          )\n",
       "          (conv_pwl): Conv2d(96, 24, kernel_size=(1, 1), stride=(1, 1), bias=False)\n",
       "          (bn3): BatchNormAct2d(\n",
       "            24, eps=1e-05, momentum=0.1, affine=True, track_running_stats=True\n",
       "            (drop): Identity()\n",
       "            (act): Identity()\n",
       "          )\n",
       "          (drop_path): Identity()\n",
       "        )\n",
       "        (1): InvertedResidual(\n",
       "          (conv_pw): Conv2d(24, 144, kernel_size=(1, 1), stride=(1, 1), bias=False)\n",
       "          (bn1): BatchNormAct2d(\n",
       "            144, eps=1e-05, momentum=0.1, affine=True, track_running_stats=True\n",
       "            (drop): Identity()\n",
       "            (act): SiLU(inplace=True)\n",
       "          )\n",
       "          (conv_dw): Conv2d(144, 144, kernel_size=(3, 3), stride=(1, 1), padding=(1, 1), groups=144, bias=False)\n",
       "          (bn2): BatchNormAct2d(\n",
       "            144, eps=1e-05, momentum=0.1, affine=True, track_running_stats=True\n",
       "            (drop): Identity()\n",
       "            (act): SiLU(inplace=True)\n",
       "          )\n",
       "          (se): SqueezeExcite(\n",
       "            (conv_reduce): Conv2d(144, 6, kernel_size=(1, 1), stride=(1, 1))\n",
       "            (act1): SiLU(inplace=True)\n",
       "            (conv_expand): Conv2d(6, 144, kernel_size=(1, 1), stride=(1, 1))\n",
       "            (gate): Sigmoid()\n",
       "          )\n",
       "          (conv_pwl): Conv2d(144, 24, kernel_size=(1, 1), stride=(1, 1), bias=False)\n",
       "          (bn3): BatchNormAct2d(\n",
       "            24, eps=1e-05, momentum=0.1, affine=True, track_running_stats=True\n",
       "            (drop): Identity()\n",
       "            (act): Identity()\n",
       "          )\n",
       "          (drop_path): Identity()\n",
       "        )\n",
       "      )\n",
       "      (2): Sequential(\n",
       "        (0): InvertedResidual(\n",
       "          (conv_pw): Conv2d(24, 144, kernel_size=(1, 1), stride=(1, 1), bias=False)\n",
       "          (bn1): BatchNormAct2d(\n",
       "            144, eps=1e-05, momentum=0.1, affine=True, track_running_stats=True\n",
       "            (drop): Identity()\n",
       "            (act): SiLU(inplace=True)\n",
       "          )\n",
       "          (conv_dw): Conv2d(144, 144, kernel_size=(5, 5), stride=(2, 2), padding=(2, 2), groups=144, bias=False)\n",
       "          (bn2): BatchNormAct2d(\n",
       "            144, eps=1e-05, momentum=0.1, affine=True, track_running_stats=True\n",
       "            (drop): Identity()\n",
       "            (act): SiLU(inplace=True)\n",
       "          )\n",
       "          (se): SqueezeExcite(\n",
       "            (conv_reduce): Conv2d(144, 6, kernel_size=(1, 1), stride=(1, 1))\n",
       "            (act1): SiLU(inplace=True)\n",
       "            (conv_expand): Conv2d(6, 144, kernel_size=(1, 1), stride=(1, 1))\n",
       "            (gate): Sigmoid()\n",
       "          )\n",
       "          (conv_pwl): Conv2d(144, 40, kernel_size=(1, 1), stride=(1, 1), bias=False)\n",
       "          (bn3): BatchNormAct2d(\n",
       "            40, eps=1e-05, momentum=0.1, affine=True, track_running_stats=True\n",
       "            (drop): Identity()\n",
       "            (act): Identity()\n",
       "          )\n",
       "          (drop_path): Identity()\n",
       "        )\n",
       "        (1): InvertedResidual(\n",
       "          (conv_pw): Conv2d(40, 240, kernel_size=(1, 1), stride=(1, 1), bias=False)\n",
       "          (bn1): BatchNormAct2d(\n",
       "            240, eps=1e-05, momentum=0.1, affine=True, track_running_stats=True\n",
       "            (drop): Identity()\n",
       "            (act): SiLU(inplace=True)\n",
       "          )\n",
       "          (conv_dw): Conv2d(240, 240, kernel_size=(5, 5), stride=(1, 1), padding=(2, 2), groups=240, bias=False)\n",
       "          (bn2): BatchNormAct2d(\n",
       "            240, eps=1e-05, momentum=0.1, affine=True, track_running_stats=True\n",
       "            (drop): Identity()\n",
       "            (act): SiLU(inplace=True)\n",
       "          )\n",
       "          (se): SqueezeExcite(\n",
       "            (conv_reduce): Conv2d(240, 10, kernel_size=(1, 1), stride=(1, 1))\n",
       "            (act1): SiLU(inplace=True)\n",
       "            (conv_expand): Conv2d(10, 240, kernel_size=(1, 1), stride=(1, 1))\n",
       "            (gate): Sigmoid()\n",
       "          )\n",
       "          (conv_pwl): Conv2d(240, 40, kernel_size=(1, 1), stride=(1, 1), bias=False)\n",
       "          (bn3): BatchNormAct2d(\n",
       "            40, eps=1e-05, momentum=0.1, affine=True, track_running_stats=True\n",
       "            (drop): Identity()\n",
       "            (act): Identity()\n",
       "          )\n",
       "          (drop_path): Identity()\n",
       "        )\n",
       "      )\n",
       "      (3): Sequential(\n",
       "        (0): InvertedResidual(\n",
       "          (conv_pw): Conv2d(40, 240, kernel_size=(1, 1), stride=(1, 1), bias=False)\n",
       "          (bn1): BatchNormAct2d(\n",
       "            240, eps=1e-05, momentum=0.1, affine=True, track_running_stats=True\n",
       "            (drop): Identity()\n",
       "            (act): SiLU(inplace=True)\n",
       "          )\n",
       "          (conv_dw): Conv2d(240, 240, kernel_size=(3, 3), stride=(2, 2), padding=(1, 1), groups=240, bias=False)\n",
       "          (bn2): BatchNormAct2d(\n",
       "            240, eps=1e-05, momentum=0.1, affine=True, track_running_stats=True\n",
       "            (drop): Identity()\n",
       "            (act): SiLU(inplace=True)\n",
       "          )\n",
       "          (se): SqueezeExcite(\n",
       "            (conv_reduce): Conv2d(240, 10, kernel_size=(1, 1), stride=(1, 1))\n",
       "            (act1): SiLU(inplace=True)\n",
       "            (conv_expand): Conv2d(10, 240, kernel_size=(1, 1), stride=(1, 1))\n",
       "            (gate): Sigmoid()\n",
       "          )\n",
       "          (conv_pwl): Conv2d(240, 80, kernel_size=(1, 1), stride=(1, 1), bias=False)\n",
       "          (bn3): BatchNormAct2d(\n",
       "            80, eps=1e-05, momentum=0.1, affine=True, track_running_stats=True\n",
       "            (drop): Identity()\n",
       "            (act): Identity()\n",
       "          )\n",
       "          (drop_path): Identity()\n",
       "        )\n",
       "        (1): InvertedResidual(\n",
       "          (conv_pw): Conv2d(80, 480, kernel_size=(1, 1), stride=(1, 1), bias=False)\n",
       "          (bn1): BatchNormAct2d(\n",
       "            480, eps=1e-05, momentum=0.1, affine=True, track_running_stats=True\n",
       "            (drop): Identity()\n",
       "            (act): SiLU(inplace=True)\n",
       "          )\n",
       "          (conv_dw): Conv2d(480, 480, kernel_size=(3, 3), stride=(1, 1), padding=(1, 1), groups=480, bias=False)\n",
       "          (bn2): BatchNormAct2d(\n",
       "            480, eps=1e-05, momentum=0.1, affine=True, track_running_stats=True\n",
       "            (drop): Identity()\n",
       "            (act): SiLU(inplace=True)\n",
       "          )\n",
       "          (se): SqueezeExcite(\n",
       "            (conv_reduce): Conv2d(480, 20, kernel_size=(1, 1), stride=(1, 1))\n",
       "            (act1): SiLU(inplace=True)\n",
       "            (conv_expand): Conv2d(20, 480, kernel_size=(1, 1), stride=(1, 1))\n",
       "            (gate): Sigmoid()\n",
       "          )\n",
       "          (conv_pwl): Conv2d(480, 80, kernel_size=(1, 1), stride=(1, 1), bias=False)\n",
       "          (bn3): BatchNormAct2d(\n",
       "            80, eps=1e-05, momentum=0.1, affine=True, track_running_stats=True\n",
       "            (drop): Identity()\n",
       "            (act): Identity()\n",
       "          )\n",
       "          (drop_path): Identity()\n",
       "        )\n",
       "        (2): InvertedResidual(\n",
       "          (conv_pw): Conv2d(80, 480, kernel_size=(1, 1), stride=(1, 1), bias=False)\n",
       "          (bn1): BatchNormAct2d(\n",
       "            480, eps=1e-05, momentum=0.1, affine=True, track_running_stats=True\n",
       "            (drop): Identity()\n",
       "            (act): SiLU(inplace=True)\n",
       "          )\n",
       "          (conv_dw): Conv2d(480, 480, kernel_size=(3, 3), stride=(1, 1), padding=(1, 1), groups=480, bias=False)\n",
       "          (bn2): BatchNormAct2d(\n",
       "            480, eps=1e-05, momentum=0.1, affine=True, track_running_stats=True\n",
       "            (drop): Identity()\n",
       "            (act): SiLU(inplace=True)\n",
       "          )\n",
       "          (se): SqueezeExcite(\n",
       "            (conv_reduce): Conv2d(480, 20, kernel_size=(1, 1), stride=(1, 1))\n",
       "            (act1): SiLU(inplace=True)\n",
       "            (conv_expand): Conv2d(20, 480, kernel_size=(1, 1), stride=(1, 1))\n",
       "            (gate): Sigmoid()\n",
       "          )\n",
       "          (conv_pwl): Conv2d(480, 80, kernel_size=(1, 1), stride=(1, 1), bias=False)\n",
       "          (bn3): BatchNormAct2d(\n",
       "            80, eps=1e-05, momentum=0.1, affine=True, track_running_stats=True\n",
       "            (drop): Identity()\n",
       "            (act): Identity()\n",
       "          )\n",
       "          (drop_path): Identity()\n",
       "        )\n",
       "      )\n",
       "      (4): Sequential(\n",
       "        (0): InvertedResidual(\n",
       "          (conv_pw): Conv2d(80, 480, kernel_size=(1, 1), stride=(1, 1), bias=False)\n",
       "          (bn1): BatchNormAct2d(\n",
       "            480, eps=1e-05, momentum=0.1, affine=True, track_running_stats=True\n",
       "            (drop): Identity()\n",
       "            (act): SiLU(inplace=True)\n",
       "          )\n",
       "          (conv_dw): Conv2d(480, 480, kernel_size=(5, 5), stride=(1, 1), padding=(2, 2), groups=480, bias=False)\n",
       "          (bn2): BatchNormAct2d(\n",
       "            480, eps=1e-05, momentum=0.1, affine=True, track_running_stats=True\n",
       "            (drop): Identity()\n",
       "            (act): SiLU(inplace=True)\n",
       "          )\n",
       "          (se): SqueezeExcite(\n",
       "            (conv_reduce): Conv2d(480, 20, kernel_size=(1, 1), stride=(1, 1))\n",
       "            (act1): SiLU(inplace=True)\n",
       "            (conv_expand): Conv2d(20, 480, kernel_size=(1, 1), stride=(1, 1))\n",
       "            (gate): Sigmoid()\n",
       "          )\n",
       "          (conv_pwl): Conv2d(480, 112, kernel_size=(1, 1), stride=(1, 1), bias=False)\n",
       "          (bn3): BatchNormAct2d(\n",
       "            112, eps=1e-05, momentum=0.1, affine=True, track_running_stats=True\n",
       "            (drop): Identity()\n",
       "            (act): Identity()\n",
       "          )\n",
       "          (drop_path): Identity()\n",
       "        )\n",
       "        (1): InvertedResidual(\n",
       "          (conv_pw): Conv2d(112, 672, kernel_size=(1, 1), stride=(1, 1), bias=False)\n",
       "          (bn1): BatchNormAct2d(\n",
       "            672, eps=1e-05, momentum=0.1, affine=True, track_running_stats=True\n",
       "            (drop): Identity()\n",
       "            (act): SiLU(inplace=True)\n",
       "          )\n",
       "          (conv_dw): Conv2d(672, 672, kernel_size=(5, 5), stride=(1, 1), padding=(2, 2), groups=672, bias=False)\n",
       "          (bn2): BatchNormAct2d(\n",
       "            672, eps=1e-05, momentum=0.1, affine=True, track_running_stats=True\n",
       "            (drop): Identity()\n",
       "            (act): SiLU(inplace=True)\n",
       "          )\n",
       "          (se): SqueezeExcite(\n",
       "            (conv_reduce): Conv2d(672, 28, kernel_size=(1, 1), stride=(1, 1))\n",
       "            (act1): SiLU(inplace=True)\n",
       "            (conv_expand): Conv2d(28, 672, kernel_size=(1, 1), stride=(1, 1))\n",
       "            (gate): Sigmoid()\n",
       "          )\n",
       "          (conv_pwl): Conv2d(672, 112, kernel_size=(1, 1), stride=(1, 1), bias=False)\n",
       "          (bn3): BatchNormAct2d(\n",
       "            112, eps=1e-05, momentum=0.1, affine=True, track_running_stats=True\n",
       "            (drop): Identity()\n",
       "            (act): Identity()\n",
       "          )\n",
       "          (drop_path): Identity()\n",
       "        )\n",
       "        (2): InvertedResidual(\n",
       "          (conv_pw): Conv2d(112, 672, kernel_size=(1, 1), stride=(1, 1), bias=False)\n",
       "          (bn1): BatchNormAct2d(\n",
       "            672, eps=1e-05, momentum=0.1, affine=True, track_running_stats=True\n",
       "            (drop): Identity()\n",
       "            (act): SiLU(inplace=True)\n",
       "          )\n",
       "          (conv_dw): Conv2d(672, 672, kernel_size=(5, 5), stride=(1, 1), padding=(2, 2), groups=672, bias=False)\n",
       "          (bn2): BatchNormAct2d(\n",
       "            672, eps=1e-05, momentum=0.1, affine=True, track_running_stats=True\n",
       "            (drop): Identity()\n",
       "            (act): SiLU(inplace=True)\n",
       "          )\n",
       "          (se): SqueezeExcite(\n",
       "            (conv_reduce): Conv2d(672, 28, kernel_size=(1, 1), stride=(1, 1))\n",
       "            (act1): SiLU(inplace=True)\n",
       "            (conv_expand): Conv2d(28, 672, kernel_size=(1, 1), stride=(1, 1))\n",
       "            (gate): Sigmoid()\n",
       "          )\n",
       "          (conv_pwl): Conv2d(672, 112, kernel_size=(1, 1), stride=(1, 1), bias=False)\n",
       "          (bn3): BatchNormAct2d(\n",
       "            112, eps=1e-05, momentum=0.1, affine=True, track_running_stats=True\n",
       "            (drop): Identity()\n",
       "            (act): Identity()\n",
       "          )\n",
       "          (drop_path): Identity()\n",
       "        )\n",
       "      )\n",
       "      (5): Sequential(\n",
       "        (0): InvertedResidual(\n",
       "          (conv_pw): Conv2d(112, 672, kernel_size=(1, 1), stride=(1, 1), bias=False)\n",
       "          (bn1): BatchNormAct2d(\n",
       "            672, eps=1e-05, momentum=0.1, affine=True, track_running_stats=True\n",
       "            (drop): Identity()\n",
       "            (act): SiLU(inplace=True)\n",
       "          )\n",
       "          (conv_dw): Conv2d(672, 672, kernel_size=(5, 5), stride=(2, 2), padding=(2, 2), groups=672, bias=False)\n",
       "          (bn2): BatchNormAct2d(\n",
       "            672, eps=1e-05, momentum=0.1, affine=True, track_running_stats=True\n",
       "            (drop): Identity()\n",
       "            (act): SiLU(inplace=True)\n",
       "          )\n",
       "          (se): SqueezeExcite(\n",
       "            (conv_reduce): Conv2d(672, 28, kernel_size=(1, 1), stride=(1, 1))\n",
       "            (act1): SiLU(inplace=True)\n",
       "            (conv_expand): Conv2d(28, 672, kernel_size=(1, 1), stride=(1, 1))\n",
       "            (gate): Sigmoid()\n",
       "          )\n",
       "          (conv_pwl): Conv2d(672, 192, kernel_size=(1, 1), stride=(1, 1), bias=False)\n",
       "          (bn3): BatchNormAct2d(\n",
       "            192, eps=1e-05, momentum=0.1, affine=True, track_running_stats=True\n",
       "            (drop): Identity()\n",
       "            (act): Identity()\n",
       "          )\n",
       "          (drop_path): Identity()\n",
       "        )\n",
       "        (1): InvertedResidual(\n",
       "          (conv_pw): Conv2d(192, 1152, kernel_size=(1, 1), stride=(1, 1), bias=False)\n",
       "          (bn1): BatchNormAct2d(\n",
       "            1152, eps=1e-05, momentum=0.1, affine=True, track_running_stats=True\n",
       "            (drop): Identity()\n",
       "            (act): SiLU(inplace=True)\n",
       "          )\n",
       "          (conv_dw): Conv2d(1152, 1152, kernel_size=(5, 5), stride=(1, 1), padding=(2, 2), groups=1152, bias=False)\n",
       "          (bn2): BatchNormAct2d(\n",
       "            1152, eps=1e-05, momentum=0.1, affine=True, track_running_stats=True\n",
       "            (drop): Identity()\n",
       "            (act): SiLU(inplace=True)\n",
       "          )\n",
       "          (se): SqueezeExcite(\n",
       "            (conv_reduce): Conv2d(1152, 48, kernel_size=(1, 1), stride=(1, 1))\n",
       "            (act1): SiLU(inplace=True)\n",
       "            (conv_expand): Conv2d(48, 1152, kernel_size=(1, 1), stride=(1, 1))\n",
       "            (gate): Sigmoid()\n",
       "          )\n",
       "          (conv_pwl): Conv2d(1152, 192, kernel_size=(1, 1), stride=(1, 1), bias=False)\n",
       "          (bn3): BatchNormAct2d(\n",
       "            192, eps=1e-05, momentum=0.1, affine=True, track_running_stats=True\n",
       "            (drop): Identity()\n",
       "            (act): Identity()\n",
       "          )\n",
       "          (drop_path): Identity()\n",
       "        )\n",
       "        (2): InvertedResidual(\n",
       "          (conv_pw): Conv2d(192, 1152, kernel_size=(1, 1), stride=(1, 1), bias=False)\n",
       "          (bn1): BatchNormAct2d(\n",
       "            1152, eps=1e-05, momentum=0.1, affine=True, track_running_stats=True\n",
       "            (drop): Identity()\n",
       "            (act): SiLU(inplace=True)\n",
       "          )\n",
       "          (conv_dw): Conv2d(1152, 1152, kernel_size=(5, 5), stride=(1, 1), padding=(2, 2), groups=1152, bias=False)\n",
       "          (bn2): BatchNormAct2d(\n",
       "            1152, eps=1e-05, momentum=0.1, affine=True, track_running_stats=True\n",
       "            (drop): Identity()\n",
       "            (act): SiLU(inplace=True)\n",
       "          )\n",
       "          (se): SqueezeExcite(\n",
       "            (conv_reduce): Conv2d(1152, 48, kernel_size=(1, 1), stride=(1, 1))\n",
       "            (act1): SiLU(inplace=True)\n",
       "            (conv_expand): Conv2d(48, 1152, kernel_size=(1, 1), stride=(1, 1))\n",
       "            (gate): Sigmoid()\n",
       "          )\n",
       "          (conv_pwl): Conv2d(1152, 192, kernel_size=(1, 1), stride=(1, 1), bias=False)\n",
       "          (bn3): BatchNormAct2d(\n",
       "            192, eps=1e-05, momentum=0.1, affine=True, track_running_stats=True\n",
       "            (drop): Identity()\n",
       "            (act): Identity()\n",
       "          )\n",
       "          (drop_path): Identity()\n",
       "        )\n",
       "        (3): InvertedResidual(\n",
       "          (conv_pw): Conv2d(192, 1152, kernel_size=(1, 1), stride=(1, 1), bias=False)\n",
       "          (bn1): BatchNormAct2d(\n",
       "            1152, eps=1e-05, momentum=0.1, affine=True, track_running_stats=True\n",
       "            (drop): Identity()\n",
       "            (act): SiLU(inplace=True)\n",
       "          )\n",
       "          (conv_dw): Conv2d(1152, 1152, kernel_size=(5, 5), stride=(1, 1), padding=(2, 2), groups=1152, bias=False)\n",
       "          (bn2): BatchNormAct2d(\n",
       "            1152, eps=1e-05, momentum=0.1, affine=True, track_running_stats=True\n",
       "            (drop): Identity()\n",
       "            (act): SiLU(inplace=True)\n",
       "          )\n",
       "          (se): SqueezeExcite(\n",
       "            (conv_reduce): Conv2d(1152, 48, kernel_size=(1, 1), stride=(1, 1))\n",
       "            (act1): SiLU(inplace=True)\n",
       "            (conv_expand): Conv2d(48, 1152, kernel_size=(1, 1), stride=(1, 1))\n",
       "            (gate): Sigmoid()\n",
       "          )\n",
       "          (conv_pwl): Conv2d(1152, 192, kernel_size=(1, 1), stride=(1, 1), bias=False)\n",
       "          (bn3): BatchNormAct2d(\n",
       "            192, eps=1e-05, momentum=0.1, affine=True, track_running_stats=True\n",
       "            (drop): Identity()\n",
       "            (act): Identity()\n",
       "          )\n",
       "          (drop_path): Identity()\n",
       "        )\n",
       "      )\n",
       "      (6): Sequential(\n",
       "        (0): InvertedResidual(\n",
       "          (conv_pw): Conv2d(192, 1152, kernel_size=(1, 1), stride=(1, 1), bias=False)\n",
       "          (bn1): BatchNormAct2d(\n",
       "            1152, eps=1e-05, momentum=0.1, affine=True, track_running_stats=True\n",
       "            (drop): Identity()\n",
       "            (act): SiLU(inplace=True)\n",
       "          )\n",
       "          (conv_dw): Conv2d(1152, 1152, kernel_size=(3, 3), stride=(1, 1), padding=(1, 1), groups=1152, bias=False)\n",
       "          (bn2): BatchNormAct2d(\n",
       "            1152, eps=1e-05, momentum=0.1, affine=True, track_running_stats=True\n",
       "            (drop): Identity()\n",
       "            (act): SiLU(inplace=True)\n",
       "          )\n",
       "          (se): SqueezeExcite(\n",
       "            (conv_reduce): Conv2d(1152, 48, kernel_size=(1, 1), stride=(1, 1))\n",
       "            (act1): SiLU(inplace=True)\n",
       "            (conv_expand): Conv2d(48, 1152, kernel_size=(1, 1), stride=(1, 1))\n",
       "            (gate): Sigmoid()\n",
       "          )\n",
       "          (conv_pwl): Conv2d(1152, 320, kernel_size=(1, 1), stride=(1, 1), bias=False)\n",
       "          (bn3): BatchNormAct2d(\n",
       "            320, eps=1e-05, momentum=0.1, affine=True, track_running_stats=True\n",
       "            (drop): Identity()\n",
       "            (act): Identity()\n",
       "          )\n",
       "          (drop_path): Identity()\n",
       "        )\n",
       "      )\n",
       "    )\n",
       "    (conv_head): Conv2d(320, 1280, kernel_size=(1, 1), stride=(1, 1), bias=False)\n",
       "    (bn2): BatchNormAct2d(\n",
       "      1280, eps=1e-05, momentum=0.1, affine=True, track_running_stats=True\n",
       "      (drop): Identity()\n",
       "      (act): SiLU(inplace=True)\n",
       "    )\n",
       "    (global_pool): SelectAdaptivePool2d (pool_type=avg, flatten=Flatten(start_dim=1, end_dim=-1))\n",
       "    (classifier): Linear(in_features=1280, out_features=4, bias=True)\n",
       "  )\n",
       ")"
      ]
     },
     "execution_count": 19,
     "metadata": {},
     "output_type": "execute_result"
    }
   ],
   "source": [
    "train_dl = DeviceDataLoader(train_dl, device)\n",
    "val_dl = DeviceDataLoader(val_dl, device)\n",
    "to_device(model, device)"
   ]
  },
  {
   "cell_type": "code",
   "execution_count": 20,
   "id": "ee2e4e8a",
   "metadata": {
    "execution": {
     "iopub.execute_input": "2022-12-31T16:54:24.943345Z",
     "iopub.status.busy": "2022-12-31T16:54:24.942548Z",
     "iopub.status.idle": "2022-12-31T16:54:25.104667Z",
     "shell.execute_reply": "2022-12-31T16:54:25.103627Z"
    },
    "papermill": {
     "duration": 0.175074,
     "end_time": "2022-12-31T16:54:25.107243",
     "exception": false,
     "start_time": "2022-12-31T16:54:24.932169",
     "status": "completed"
    },
    "tags": []
   },
   "outputs": [],
   "source": [
    "model = to_device(ConvNeXt(), device)\n",
    "#evaluate(model, val_dl)"
   ]
  },
  {
   "cell_type": "code",
   "execution_count": 21,
   "id": "a6f63cb8",
   "metadata": {
    "execution": {
     "iopub.execute_input": "2022-12-31T16:54:25.127726Z",
     "iopub.status.busy": "2022-12-31T16:54:25.127405Z",
     "iopub.status.idle": "2022-12-31T16:54:25.132756Z",
     "shell.execute_reply": "2022-12-31T16:54:25.131785Z"
    },
    "papermill": {
     "duration": 0.017854,
     "end_time": "2022-12-31T16:54:25.134832",
     "exception": false,
     "start_time": "2022-12-31T16:54:25.116978",
     "status": "completed"
    },
    "tags": []
   },
   "outputs": [],
   "source": [
    "y_pred=[]\n",
    "y_true=[]"
   ]
  },
  {
   "cell_type": "code",
   "execution_count": 22,
   "id": "8f4f92d9",
   "metadata": {
    "execution": {
     "iopub.execute_input": "2022-12-31T16:54:25.155039Z",
     "iopub.status.busy": "2022-12-31T16:54:25.154132Z",
     "iopub.status.idle": "2022-12-31T20:53:03.412283Z",
     "shell.execute_reply": "2022-12-31T20:53:03.411317Z"
    },
    "papermill": {
     "duration": 14318.270282,
     "end_time": "2022-12-31T20:53:03.414377",
     "exception": false,
     "start_time": "2022-12-31T16:54:25.144095",
     "status": "completed"
    },
    "tags": []
   },
   "outputs": [
    {
     "name": "stderr",
     "output_type": "stream",
     "text": [
      "  0%|          | 0/10 [00:00<?, ?it/s]"
     ]
    },
    {
     "name": "stdout",
     "output_type": "stream",
     "text": [
      "Epoch 1: train_loss: 1.2598, val_loss: 1.1543, val_acc: 0.5127\n"
     ]
    },
    {
     "name": "stderr",
     "output_type": "stream",
     "text": [
      " 10%|█         | 1/10 [22:56<3:26:29, 1376.59s/it]"
     ]
    },
    {
     "name": "stdout",
     "output_type": "stream",
     "text": [
      "['AA', 'IA', 'NFP', 'TA']\n",
      "[0.27272727 0.20818505 0.77024793 0.64616448]\n",
      "Plot confusion matrix\n",
      "Epoch 2: train_loss: 1.1162, val_loss: 1.1406, val_acc: 0.5178\n"
     ]
    },
    {
     "name": "stderr",
     "output_type": "stream",
     "text": [
      " 20%|██        | 2/10 [46:56<3:08:28, 1413.58s/it]"
     ]
    },
    {
     "name": "stdout",
     "output_type": "stream",
     "text": [
      "['AA', 'IA', 'NFP', 'TA']\n",
      "[0.19370079 0.25110132 0.56730342 0.83594976]\n",
      "Plot confusion matrix\n",
      "Epoch 3: train_loss: 1.0127, val_loss: 1.1094, val_acc: 0.5216\n",
      "['AA', 'IA', 'NFP', 'TA']\n",
      "[0.36875    0.25985401 0.64651163 0.82473498]\n",
      "Plot confusion matrix\n"
     ]
    },
    {
     "name": "stderr",
     "output_type": "stream",
     "text": [
      " 30%|███       | 3/10 [1:11:12<2:47:11, 1433.10s/it]"
     ]
    },
    {
     "name": "stdout",
     "output_type": "stream",
     "text": [
      "Epoch 4: train_loss: 0.8882, val_loss: 1.2422, val_acc: 0.4659\n"
     ]
    },
    {
     "name": "stderr",
     "output_type": "stream",
     "text": [
      " 40%|████      | 4/10 [1:35:03<2:23:14, 1432.42s/it]"
     ]
    },
    {
     "name": "stdout",
     "output_type": "stream",
     "text": [
      "['AA', 'IA', 'NFP', 'TA']\n",
      "[0.35174419 0.24190912 0.78711485 0.88879457]\n",
      "Plot confusion matrix\n",
      "Epoch 5: train_loss: 0.6895, val_loss: 1.3701, val_acc: 0.4946\n"
     ]
    },
    {
     "name": "stderr",
     "output_type": "stream",
     "text": [
      " 50%|█████     | 5/10 [1:58:50<1:59:12, 1430.53s/it]"
     ]
    },
    {
     "name": "stdout",
     "output_type": "stream",
     "text": [
      "['AA', 'IA', 'NFP', 'TA']\n",
      "[0.36842105 0.26158382 0.67971759 0.84024896]\n",
      "Plot confusion matrix\n",
      "Epoch 6: train_loss: 0.5244, val_loss: 1.2744, val_acc: 0.5887\n"
     ]
    },
    {
     "name": "stderr",
     "output_type": "stream",
     "text": [
      " 60%|██████    | 6/10 [2:23:19<1:36:13, 1443.46s/it]"
     ]
    },
    {
     "name": "stdout",
     "output_type": "stream",
     "text": [
      "['AA', 'IA', 'NFP', 'TA']\n",
      "[0.32107023 0.34383754 0.84162304 0.72175649]\n",
      "Plot confusion matrix\n",
      "Epoch 7: train_loss: 0.3628, val_loss: 1.7930, val_acc: 0.4999\n"
     ]
    },
    {
     "name": "stderr",
     "output_type": "stream",
     "text": [
      " 70%|███████   | 7/10 [2:47:07<1:11:55, 1438.40s/it]"
     ]
    },
    {
     "name": "stdout",
     "output_type": "stream",
     "text": [
      "['AA', 'IA', 'NFP', 'TA']\n",
      "[0.35607321 0.27154844 0.76265271 0.90280778]\n",
      "Plot confusion matrix\n",
      "Epoch 8: train_loss: 0.2104, val_loss: 1.3184, val_acc: 0.6295\n"
     ]
    },
    {
     "name": "stderr",
     "output_type": "stream",
     "text": [
      " 80%|████████  | 8/10 [3:11:14<48:02, 1441.10s/it]  "
     ]
    },
    {
     "name": "stdout",
     "output_type": "stream",
     "text": [
      "['AA', 'IA', 'NFP', 'TA']\n",
      "[0.41423358 0.38555858 0.70869277 0.83013544]\n",
      "Plot confusion matrix\n",
      "Epoch 9: train_loss: 0.1908, val_loss: 1.2012, val_acc: 0.6685\n"
     ]
    },
    {
     "name": "stderr",
     "output_type": "stream",
     "text": [
      " 90%|█████████ | 9/10 [3:35:09<23:59, 1439.25s/it]"
     ]
    },
    {
     "name": "stdout",
     "output_type": "stream",
     "text": [
      "['AA', 'IA', 'NFP', 'TA']\n",
      "[0.50815851 0.4322527  0.77998528 0.76345486]\n",
      "Plot confusion matrix\n",
      "Epoch 10: train_loss: 0.2328, val_loss: 1.4580, val_acc: 0.6192\n"
     ]
    },
    {
     "name": "stderr",
     "output_type": "stream",
     "text": [
      "100%|██████████| 10/10 [3:58:36<00:00, 1431.68s/it]"
     ]
    },
    {
     "name": "stdout",
     "output_type": "stream",
     "text": [
      "['AA', 'IA', 'NFP', 'TA']\n",
      "[0.75555556 0.3085466  0.84168565 0.81140971]\n",
      "Plot confusion matrix\n"
     ]
    },
    {
     "name": "stderr",
     "output_type": "stream",
     "text": [
      "\n"
     ]
    },
    {
     "data": {
      "image/png": "[encoded data removed]",
      "text/plain": [
       "<Figure size 288x288 with 2 Axes>"
      ]
     },
     "metadata": {
      "needs_background": "light"
     },
     "output_type": "display_data"
    },
    {
     "data": {
      "image/png": "[encoded data removed]",
      "text/plain": [
       "<Figure size 288x288 with 2 Axes>"
      ]
     },
     "metadata": {
      "needs_background": "light"
     },
     "output_type": "display_data"
    },
    {
     "data": {
      "image/png": "[encoded data removed]",
      "text/plain": [
       "<Figure size 288x288 with 2 Axes>"
      ]
     },
     "metadata": {
      "needs_background": "light"
     },
     "output_type": "display_data"
    },
    {
     "data": {
      "image/png": "[encoded data removed]",
      "text/plain": [
       "<Figure size 288x288 with 2 Axes>"
      ]
     },
     "metadata": {
      "needs_background": "light"
     },
     "output_type": "display_data"
    },
    {
     "data": {
      "image/png": "[encoded data removed]",
      "text/plain": [
       "<Figure size 288x288 with 2 Axes>"
      ]
     },
     "metadata": {
      "needs_background": "light"
     },
     "output_type": "display_data"
    },
    {
     "data": {
      "image/png": "[encoded data removed]",
      "text/plain": [
       "<Figure size 288x288 with 2 Axes>"
      ]
     },
     "metadata": {
      "needs_background": "light"
     },
     "output_type": "display_data"
    },
    {
     "data": {
      "image/png": "[encoded data removed]",
      "text/plain": [
       "<Figure size 288x288 with 2 Axes>"
      ]
     },
     "metadata": {
      "needs_background": "light"
     },
     "output_type": "display_data"
    },
    {
     "data": {
      "image/png": "[encoded data removed]",
      "text/plain": [
       "<Figure size 288x288 with 2 Axes>"
      ]
     },
     "metadata": {
      "needs_background": "light"
     },
     "output_type": "display_data"
    },
    {
     "data": {
      "image/png": "[encoded data removed]",
      "text/plain": [
       "<Figure size 288x288 with 2 Axes>"
      ]
     },
     "metadata": {
      "needs_background": "light"
     },
     "output_type": "display_data"
    },
    {
     "data": {
      "image/png": "[encoded data removed]",
      "text/plain": [
       "<Figure size 288x288 with 2 Axes>"
      ]
     },
     "metadata": {
      "needs_background": "light"
     },
     "output_type": "display_data"
    }
   ],
   "source": [
    "num_epochs = 10\n",
    "opt_func = torch.optim.AdamW\n",
    "lr = 3e-4\n",
    "history = fit(num_epochs, lr, model, train_dl, val_dl, y_pred, y_true, opt_func)"
   ]
  },
  {
   "cell_type": "code",
   "execution_count": 23,
   "id": "aa051929",
   "metadata": {
    "execution": {
     "iopub.execute_input": "2022-12-31T20:53:03.443300Z",
     "iopub.status.busy": "2022-12-31T20:53:03.442994Z",
     "iopub.status.idle": "2022-12-31T20:53:03.647652Z",
     "shell.execute_reply": "2022-12-31T20:53:03.646699Z"
    },
    "papermill": {
     "duration": 0.22109,
     "end_time": "2022-12-31T20:53:03.649604",
     "exception": false,
     "start_time": "2022-12-31T20:53:03.428514",
     "status": "completed"
    },
    "tags": []
   },
   "outputs": [
    {
     "data": {
      "image/png": "[encoded data removed]",
      "text/plain": [
       "<Figure size 432x288 with 1 Axes>"
      ]
     },
     "metadata": {
      "needs_background": "light"
     },
     "output_type": "display_data"
    }
   ],
   "source": [
    "def plot_accuracies(history):\n",
    "    accuracies = [x['val_acc'] for x in history]\n",
    "    plt.plot(accuracies, '-x')\n",
    "    plt.xlabel('epoch')\n",
    "    plt.ylabel('accuracy')\n",
    "    plt.title('Accuracy vs. No. of epochs');\n",
    "\n",
    "plot_accuracies(history)"
   ]
  },
  {
   "cell_type": "code",
   "execution_count": 24,
   "id": "4cc75482",
   "metadata": {
    "execution": {
     "iopub.execute_input": "2022-12-31T20:53:03.679258Z",
     "iopub.status.busy": "2022-12-31T20:53:03.677803Z",
     "iopub.status.idle": "2022-12-31T20:53:03.897044Z",
     "shell.execute_reply": "2022-12-31T20:53:03.896055Z"
    },
    "papermill": {
     "duration": 0.23593,
     "end_time": "2022-12-31T20:53:03.899091",
     "exception": false,
     "start_time": "2022-12-31T20:53:03.663161",
     "status": "completed"
    },
    "tags": []
   },
   "outputs": [
    {
     "data": {
      "image/png": "[encoded data removed]",
      "text/plain": [
       "<Figure size 432x288 with 1 Axes>"
      ]
     },
     "metadata": {
      "needs_background": "light"
     },
     "output_type": "display_data"
    }
   ],
   "source": [
    "def plot_losses(history):\n",
    "    train_losses = [x.get('train_loss') for x in history]\n",
    "    val_losses = [x['val_loss'] for x in history]\n",
    "    plt.plot(train_losses, '-bx')\n",
    "    plt.plot(val_losses, '-rx')\n",
    "    plt.xlabel('epoch')\n",
    "    plt.ylabel('loss')\n",
    "    plt.legend(['Training', 'Validation'])\n",
    "    plt.title('Loss vs. No. of epochs');\n",
    "\n",
    "plot_losses(history)"
   ]
  },
  {
   "cell_type": "code",
   "execution_count": 25,
   "id": "eca3711f",
   "metadata": {
    "execution": {
     "iopub.execute_input": "2022-12-31T20:53:03.928227Z",
     "iopub.status.busy": "2022-12-31T20:53:03.927964Z",
     "iopub.status.idle": "2022-12-31T20:53:04.114545Z",
     "shell.execute_reply": "2022-12-31T20:53:04.112552Z"
    },
    "papermill": {
     "duration": 0.20312,
     "end_time": "2022-12-31T20:53:04.116160",
     "exception": true,
     "start_time": "2022-12-31T20:53:03.913040",
     "status": "failed"
    },
    "tags": []
   },
   "outputs": [
    {
     "ename": "NameError",
     "evalue": "name 'test_dl' is not defined",
     "output_type": "error",
     "traceback": [
      "\u001b[0;31m---------------------------------------------------------------------------\u001b[0m",
      "\u001b[0;31mNameError\u001b[0m                                 Traceback (most recent call last)",
      "\u001b[0;32m/tmp/ipykernel_25/2741099748.py\u001b[0m in \u001b[0;36m<module>\u001b[0;34m\u001b[0m\n\u001b[1;32m     15\u001b[0m     \u001b[0mpred_id_list\u001b[0m \u001b[0;34m=\u001b[0m  \u001b[0mnp\u001b[0m\u001b[0;34m.\u001b[0m\u001b[0mconcatenate\u001b[0m\u001b[0;34m(\u001b[0m\u001b[0mpred_id_list\u001b[0m\u001b[0;34m,\u001b[0m\u001b[0maxis\u001b[0m\u001b[0;34m=\u001b[0m\u001b[0;36m0\u001b[0m\u001b[0;34m)\u001b[0m\u001b[0;34m\u001b[0m\u001b[0;34m\u001b[0m\u001b[0m\n\u001b[1;32m     16\u001b[0m     \u001b[0;32mreturn\u001b[0m \u001b[0mpred_list\u001b[0m\u001b[0;34m,\u001b[0m\u001b[0mpred_id_list\u001b[0m\u001b[0;34m\u001b[0m\u001b[0;34m\u001b[0m\u001b[0m\n\u001b[0;32m---> 17\u001b[0;31m \u001b[0mpred_list\u001b[0m\u001b[0;34m,\u001b[0m\u001b[0mpred_id_list\u001b[0m \u001b[0;34m=\u001b[0m \u001b[0mtest\u001b[0m\u001b[0;34m(\u001b[0m\u001b[0mmodel\u001b[0m\u001b[0;34m,\u001b[0m\u001b[0mtest_dl\u001b[0m\u001b[0;34m)\u001b[0m\u001b[0;34m\u001b[0m\u001b[0;34m\u001b[0m\u001b[0m\n\u001b[0m",
      "\u001b[0;31mNameError\u001b[0m: name 'test_dl' is not defined"
     ]
    }
   ],
   "source": [
    "def test(model, dataloader):\n",
    "    model.eval()\n",
    "    pred_list =[]\n",
    "    pred_id_list=[]\n",
    "    with torch.no_grad():\n",
    "        with tqdm(dataloader,unit='batch',desc='Test') as tqdm_loader:\n",
    "            for idx, (imgid, img) in enumerate(tqdm_loader):\n",
    "\n",
    "                img = img.to(device=cfg['device'])\n",
    "                pred = model(img).detach().cpu().argmax(dim=1)\n",
    "\n",
    "                pred_list.append(pred)\n",
    "                pred_id_list.append(imgid)\n",
    "    pred_list = np.concatenate(pred_list,axis=0)\n",
    "    pred_id_list =  np.concatenate(pred_id_list,axis=0)\n",
    "    return pred_list,pred_id_list\n",
    "pred_list,pred_id_list = test(model,test_dl)"
   ]
  },
  {
   "cell_type": "code",
   "execution_count": null,
   "id": "ac246f6e",
   "metadata": {
    "execution": {
     "iopub.status.busy": "2022-12-31T01:03:15.877887Z",
     "iopub.status.idle": "2022-12-31T01:03:15.878738Z",
     "shell.execute_reply": "2022-12-31T01:03:15.878522Z",
     "shell.execute_reply.started": "2022-12-31T01:03:15.878499Z"
    },
    "papermill": {
     "duration": null,
     "end_time": null,
     "exception": null,
     "start_time": null,
     "status": "pending"
    },
    "tags": []
   },
   "outputs": [],
   "source": [
    "pred_id_list = [imageid+'.jpg' for imageid in pred_id_list]"
   ]
  },
  {
   "cell_type": "code",
   "execution_count": null,
   "id": "e7b02553",
   "metadata": {
    "execution": {
     "iopub.status.busy": "2022-12-31T01:03:15.880183Z",
     "iopub.status.idle": "2022-12-31T01:03:15.881010Z",
     "shell.execute_reply": "2022-12-31T01:03:15.880779Z",
     "shell.execute_reply.started": "2022-12-31T01:03:15.880755Z"
    },
    "papermill": {
     "duration": null,
     "end_time": null,
     "exception": null,
     "start_time": null,
     "status": "pending"
    },
    "tags": []
   },
   "outputs": [],
   "source": [
    "submit_df  = pd.DataFrame(columns=upload_sample_df.columns)\n",
    "submit_df['image_filename'] = pred_id_list\n",
    "submit_df['label'] = pred_list\n",
    "submit_df.to_csv('submit.csv',index=False)\n",
    "print(submit_df.head(10))"
   ]
  }
 ],
 "metadata": {
  "kernelspec": {
   "display_name": "Python 3",
   "language": "python",
   "name": "python3"
  },
  "language_info": {
   "codemirror_mode": {
    "name": "ipython",
    "version": 3
   },
   "file_extension": ".py",
   "mimetype": "text/x-python",
   "name": "python",
   "nbconvert_exporter": "python",
   "pygments_lexer": "ipython3",
   "version": "3.7.12"
  },
  "papermill": {
   "default_parameters": {},
   "duration": 14434.250463,
   "end_time": "2022-12-31T20:53:07.786582",
   "environment_variables": {},
   "exception": true,
   "input_path": "__notebook__.ipynb",
   "output_path": "__notebook__.ipynb",
   "parameters": {},
   "start_time": "2022-12-31T16:52:33.536119",
   "version": "2.3.4"
  }
 },
 "nbformat": 4,
 "nbformat_minor": 5
}
